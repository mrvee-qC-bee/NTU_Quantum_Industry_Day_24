{
 "cells": [
  {
   "cell_type": "code",
   "execution_count": null,
   "id": "156c0bd6-990e-4349-a3a9-f98ef8df9952",
   "metadata": {},
   "outputs": [],
   "source": [
    "# Required packages\n",
    "# %pip install qiskit\n",
    "# %pip install qiskit-ibm-runtime\n",
    "# %pip install qiskit-ibm-transpiler\n",
    "# %pip install qiskit-aer\n",
    "# %pip install colorama\n",
    "# %pip install git+https://github.com/qiskit-community/Quantum-Challenge-Grader.git"
   ]
  },
  {
   "cell_type": "markdown",
   "id": "9a75e232-dbfe-420c-814f-5fe977f154ce",
   "metadata": {},
   "source": [
    "# Brief Overview: Introduction to the Quantum Approximate Optimization Algorithm (QAOA)\n",
    "\n",
    "## Quick Intro: What is QAOA?\n",
    "\n",
    "The Quantum Approximate Optimization Algorithm (QAOA) is a quantum algorithm designed to tackle combinatorial optimization problems. These are problems where the goal is to find the optimal solution from a set of finite possible outcomes that are often encountered in tasks like routing, scheduling, or resource allocation. QAOA operates by applying quantum operations that approximate the optimal solution, making it a promising approach for potentially solving these problems efficiently on near-term quantum computers.\n",
    "\n",
    "<div class=\"alert alert-block alert-info\">\n",
    "    \n",
    "⚠️ **Note:** The concept of optimization enters in two distinct ways in this notebook:\n",
    "\n",
    "1. **Solving the Classical Optimization Problem:** Our primary goal is to solve a classical optimization problem by encoding it into quantum circuits and running an algorithm to find a solution. \n",
    "\n",
    "2. **Optimizing Circuit Performance:** There are multiple ways to implement a quantum circuit, each yielding the same result but varying in efficiency on real hardware. Here, we focus on optimizing the circuit implementation to improve its performance characteristics on quantum devices\n",
    "\n",
    "To illustrate these concepts, we use the Quantum Approximate Optimization Algorithm (QAOA) as a practical example for exploring the general problem of circuit optimization, which is essential for extracting useful results from a quantum algorithm.\n",
    "\n",
    "</div>\n",
    "\n",
    "### Key Components of QAOA\n",
    "\n",
    "QAOA works by encoding the problem into a quantum circuit that evolves through a series of unitary operations. The algorithm iteratively adjusts these operations to find the optimal solution. The two main components of QAOA are:\n",
    "\n",
    "1. **Cost Function Hamiltonian (HC):** This is the problem-specific part of the circuit that encodes the objective function of the optimization problem. The goal of the QAOA is to find the parameters that minimize the expectation value of the cost function, driving the quantum system towards the optimal solution.\n",
    "\n",
    "2. **Mixer Hamiltonian (HM):** This component of the circuit drives the exploration of the solution space. It typically uses single-qubit rotations that evolve the quantum state away from an initial, easily-prepared state.\n",
    "\n",
    "In this notebook, we will focus on optimizing the **cost function circuit** of QAOA. The cost function circuit is crucial because it directly relates to the problem you want to solve. Specifically, the circuit is constructed to reflect the objective function of your optimization problem.\n"
   ]
  },
  {
   "cell_type": "markdown",
   "id": "e6237015-01f0-4240-8ef0-911db6da0b6d",
   "metadata": {},
   "source": [
    "\n",
    "### Why Optimize the Cost Function Circuit?\n",
    "\n",
    "Optimizing the cost function circuit is crucial because it directly impacts the performance and accuracy of QAOA. The circuit’s depth and the number of gates can significantly affect the algorithm's ability to find the optimal solution, especially on noisy quantum hardware. By applying optimization techniques during the transpilation process, we can reduce the circuit's complexity, making it more suitable for execution on real quantum devices.\n",
    "\n",
    "In this notebook, we will use the [Qiskit SDK](https://docs.quantum.ibm.com/api/qiskit)'s transpiler to optimize the cost function circuit of QAOA, starting with a basic implementation, and gradually incorporating more advanced transpilation techniques and customizing our workflow.\n",
    "\n",
    "Now, let's move on to implementing and optimizing the cost function circuit of QAOA using Qiskit SDK's transpiler!"
   ]
  },
  {
   "cell_type": "markdown",
   "id": "8225b706-6313-4e42-a5e0-e00a2211370f",
   "metadata": {},
   "source": [
    "## 1. Problem Setting - Example: Max-Cut Problem\n",
    "\n",
    "As a concrete example, we'll start our workflow with a graph that represents a hypothetical max-cut problem, where the goal is to divide the nodes in this graph into two sets such that the number of edges between the sets is maximized. The cost function Hamiltonian for our hypothetical Max-Cut problem is formulated as:\n",
    "\n",
    "$$ H_C = \\sum_{(i,j) \\in E} \\frac{1}{2} (1 - Z_i Z_j) $$\n",
    "\n",
    "Here, $Z_i$ and $Z_j$ are Pauli-Z operators acting on qubits $i$ and $j$, and $E$ represents the set of edges in the graph. The cost function circuit for the Max-Cut problem thus involves a series of entangling gates (e.g., $RZZ$ gates defined as: $\\text{RZZ}(\\gamma) = e^{-i \\gamma Z_i Z_j / 2}$  where $\\gamma$ is a parameter to be optimized) that correspond to the edges in the graph. For references and more detail on the problem setting, you can find the tutorial on QAOA on the [learning plaform **here**](ttps://learning.quantum.ibm.com/tutorial/quantum-approximate-optimization-algorithm) \n"
   ]
  },
  {
   "cell_type": "code",
   "execution_count": null,
   "id": "dc3414fd-fc6e-4fe9-b275-4a80fea02cf3",
   "metadata": {},
   "outputs": [],
   "source": [
    "from networkx import barabasi_albert_graph, draw\n",
    "\n",
    "graph = barabasi_albert_graph(n=50, m=7, seed=42)"
   ]
  },
  {
   "cell_type": "code",
   "execution_count": null,
   "id": "a84c1fc0-077d-458e-bb30-b919a8300f5e",
   "metadata": {},
   "outputs": [],
   "source": [
    "draw(graph, with_labels=True)"
   ]
  },
  {
   "cell_type": "markdown",
   "id": "18375b65-f2a5-45ed-a9cb-e54c313eb10a",
   "metadata": {},
   "source": [
    "The graph above corresponds to the following operators:"
   ]
  },
  {
   "cell_type": "code",
   "execution_count": null,
   "id": "417a3020-08ed-4960-9943-930f8a836908",
   "metadata": {
    "scrolled": true
   },
   "outputs": [],
   "source": [
    "from utils import build_max_cut_paulis\n",
    "from qiskit.quantum_info import SparsePauliOp\n",
    "\n",
    "local_correlators = build_max_cut_paulis(graph)\n",
    "cost_operator = SparsePauliOp.from_list(local_correlators)\n",
    "print(cost_operator)"
   ]
  },
  {
   "cell_type": "markdown",
   "id": "56e48564-f65a-4a17-81b3-33c977bb1f5b",
   "metadata": {},
   "source": [
    "## Constructing the Cost Function Circuit for a Simple Graph\n",
    "\n",
    "Let’s construct the cost function circuit for this example. This operator maps to a 50-qubit QAOA circuit:"
   ]
  },
  {
   "cell_type": "code",
   "execution_count": null,
   "id": "f0611228-9869-47aa-96c3-5142e616e0db",
   "metadata": {},
   "outputs": [],
   "source": [
    "num_qubits = cost_operator.num_qubits\n",
    "print(num_qubits)"
   ]
  },
  {
   "cell_type": "markdown",
   "id": "7e2a4322-9261-4669-b874-676ab48a7bb2",
   "metadata": {},
   "source": [
    "Now let's build the QAOA circuit/ansatz. We will use the [`QAOAAnsatz`](https://docs.quantum.ibm.com/api/qiskit/qiskit.circuit.library.QAOAAnsatz) function in Qiskit to define it for us."
   ]
  },
  {
   "cell_type": "code",
   "execution_count": null,
   "id": "8f783115-4f31-4904-abbe-902f7b1399a1",
   "metadata": {},
   "outputs": [],
   "source": [
    "from qiskit import QuantumCircuit\n",
    "from qiskit.circuit.library import QAOAAnsatz\n",
    "from qiskit.circuit import ParameterVector\n",
    "\n",
    "# We are taking advantage of the QAOAAnsatz class to build the cost layer, \n",
    "# note that we are giving it dummy initial state and mixer circuits.\n",
    "\n",
    "dummy_initial_state = QuantumCircuit(num_qubits)  # the real initial state is defined later\n",
    "dummy_mixer_operator = QuantumCircuit(num_qubits)  # the real mixer is defined later\n",
    "\n",
    "# Use off-the-shelf qiskit QAOAAnsatz\n",
    "cost_layer = QAOAAnsatz(\n",
    "    cost_operator,\n",
    "    reps=1,\n",
    "    initial_state=dummy_initial_state,\n",
    "    mixer_operator=dummy_mixer_operator,\n",
    "    name=\"QAOA cost block\",\n",
    ")\n",
    "\n",
    "cost_layer.decompose().decompose().draw(\"mpl\", fold=-1, scale=0.5)"
   ]
  },
  {
   "cell_type": "markdown",
   "id": "e94c9e27-847b-4e83-9a15-5c0d0e91a64e",
   "metadata": {},
   "source": [
    "## 2. Basic Transpilation with Preset Pass Manager\n",
    "\n",
    "### Why Transpilation?\n",
    "\n",
    "In quantum computing, a quantum circuit is a sequence of quantum gates applied to qubits to perform a computation. However, the circuit you initially design isn't always optimal for execution on a real quantum computer. This is where **transpilation** comes in.\n",
    "\n",
    "Transpilation is the process of transforming a quantum circuit into an equivalent one that is optimized for a specific quantum device. This optimization process involves several steps, such as reducing the circuit depth (the number of gate layers), minimizing the number of gates, and mapping the logical qubits in your circuit to the physical qubits on the quantum hardware.\n",
    "\n",
    "When you design a quantum circuit, its abstract form doesn't take into account the limitations of real quantum hardware. These limitations include Qubits interact in pairs. But only a small number of all possible pairs may interact directly. We can represent the connectivity of the hardware by taking the qubits to be nodes on graph with an edge connecting members of each interacting pair. We often say that this connectivity graph represents the topology of the hardware. The hardware is capable of executing only a small, fixed, set of quantum gates, referred to as the native gate set. If follows that, to run your abstract circuit on an actual quantum device, it must be transformed to match the topology and native gate set of the device. Transpilation accomplishes this by:\n",
    "\n",
    "1. **Matching the Topology:** Ensuring that the logical qubits in your circuit are mapped to the physical qubits on the device in a way that respects the hardware's connectivity constraints.\n",
    "2. **Optimizing Instructions:** Rewriting the circuit's instructions to use only the gates supported by the device (Instruction Set Architecture) and minimizing the circuit's depth and gate count to reduce the effects of noise.\n",
    "\n",
    "### Transpilation Stages\n",
    "\n",
    "The process of transpilation in Qiskit is divided into several key stages, each designed to address different aspects of circuit optimization:\n",
    "\n",
    "1. **`init`:** This stage involves preparing the circuit by converting any custom instructions into single- and two-qubit gates, which are standard types of gates that the QPU can execute. This step also validates the circuit's instructions.\n",
    "\n",
    "2. **`layout`:** During this stage, the virtual qubits in your circuit are mapped to the physical qubits on the QPU. This mapping is crucial because it determines how the qubits interact with each other based on the device's connectivity.\n",
    "\n",
    "3. **`routing`:** After applying the layout, the circuit may need additional gates (such as SWAP gates) to ensure that qubits can interact according to the device's coupling map. This stage injects these gates to maintain the circuit's logical structure while adhering to the hardware's connectivity.\n",
    "\n",
    "4. **`translation`:** In this stage, the circuit's gates are translated into the specific set of instructions (basis gates) that the QPU can execute. This ensures that the circuit is compatible with the device's Instruction Set Architecture (ISA).\n",
    "\n",
    "5. **`optimization`:** This stage involves applying various optimization passes to reduce the circuit's depth and gate count. The goal is to find more efficient ways to represent the circuit that minimize the potential for errors and noise during execution.\n",
    "\n",
    "6. **`scheduling`:** The final stage is scheduling, which organizes the execution of the circuit's instructions to account for idle times and other hardware constraints. This stage is particularly important for optimizing circuits on near-term devices.\n",
    "\n",
    "For more details on the specifics of each of these stages, **check out this documentation link on [IBM Quantum Documentation](https://docs.quantum.ibm.com/guides/transpiler-stages).**\n",
    "\n",
    "Let’s now select a target IBM Quantum backend from the Qiskit Runtime service to optimize our circuits. The backend target we are selecting is `ibm_torino`."
   ]
  },
  {
   "cell_type": "code",
   "execution_count": null,
   "id": "4c4c7d20-1db4-4e0d-b621-ab07e80e0828",
   "metadata": {},
   "outputs": [],
   "source": [
    "from qiskit_ibm_runtime import QiskitRuntimeService\n",
    "\n",
    "# QiskitRuntimeService.save_account(\n",
    "#     channel=\"ibm_quantum\",\n",
    "#     token=\"\",\n",
    "#     set_as_default=True,\n",
    "#     # Use `overwrite=True` if you're updating your token.\n",
    "#     overwrite=True,\n",
    "# )\n",
    " \n",
    "# Load saved credentials\n",
    "service = QiskitRuntimeService(channel=\"ibm_quantum\")"
   ]
  },
  {
   "cell_type": "code",
   "execution_count": null,
   "id": "588573a4-c08f-4e45-9dfb-81833c06e4f3",
   "metadata": {},
   "outputs": [],
   "source": [
    "# Select backend\n",
    "backend = service.backend(\"ibm_torino\")"
   ]
  },
  {
   "cell_type": "code",
   "execution_count": null,
   "id": "b9f04b73-16d2-4776-a2e7-059a2911d67c",
   "metadata": {},
   "outputs": [],
   "source": [
    "from qiskit.visualization import plot_gate_map, plot_error_map\n",
    "plot_error_map(backend)"
   ]
  },
  {
   "cell_type": "markdown",
   "id": "166028b4-2873-4065-959c-7d6108598a79",
   "metadata": {},
   "source": [
    "### Using Preset Pass Managers\n",
    "\n",
    "Qiskit provides a convenient way to perform transpilation through **preset pass managers** using [`generate_preset_pass_manager`](https://docs.quantum.ibm.com/guides/defaults-and-configuration-options). These are predefined sets of transpilation passes that optimize the circuit to varying degrees depending on the selected **optimization level**:\n",
    "\n",
    "- **Level 0:** *[No Optimization]* - Basic translation with trivial qubit mapping and no optimizations, primarily for hardware characterization.\n",
    "- **Level 1:** *[Light Optimization]* - Reduces gate count and simplifies the circuit with minimal compile time, using basic layout and gate optimization.\n",
    "- **Level 2:** *[Medium Optimization]* - Applies more sophisticated heuristic-based optimizations to further reduce circuit complexity. You can find more specifics in the documentation link [here](https://docs.quantum.ibm.com/guides/set-optimization)\n",
    "- **Level 3:** *[High Optimization]* - Performs the most extensive optimizations, including advanced gate resynthesis and in-depth layout adjustments.\n",
    "\n",
    "Each optimization level offers a different balance between the quality of the optimized circuit and the time it takes to transpile. Higher levels generally produce better optimized circuits but require more time to complete.\n",
    "\n",
    "<div class=\"alert alert-block alert-info\">\n",
    "\n",
    "💡 **Why Use `generate_preset_passmanager` Instead of `transpile`?**\n",
    "\n",
    "You may wonder why we recommend `generate_preset_passmanager` over the traditional `transpile` function. <b>Here’s why:</b> While `transpile` offers general optimization, `generate_preset_passmanager` provides greater flexibility and customization specifically tailored to different quantum hardware. With it, you can more precisely control aspects like gate reduction, error suppression, and qubit routing, helping you build circuits optimized for specific backend or execution requirements.\n",
    " \n",
    "We encourage you to explore `generate_preset_passmanager` for a more powerful, flexible and customizable approach to circuit optimization, adding targeted enhancements to your quantum development workflow.\n",
    "</div>\n",
    "\n",
    "\n",
    "In this section, you will apply a preset pass manager to the QAOA cost function circuit designed to solve the Max-Cut problem. Initially, the circuit will be in its raw form, containing standard quantum gates like Hadamard and CNOT. By applying different levels of optimization, you will observe how the circuit is transformed into a more hardware-efficient version that uses gates supported by the chosen backend, such as RZ, X, SX, and ECR gates."
   ]
  },
  {
   "cell_type": "code",
   "execution_count": null,
   "id": "e45bcc55-47ac-4feb-a76b-08dafc6d658a",
   "metadata": {
    "scrolled": true
   },
   "outputs": [],
   "source": [
    "# Pre-transpilation circuit\n",
    "print(cost_layer.decompose().decompose().count_ops())"
   ]
  },
  {
   "cell_type": "markdown",
   "id": "331335de-6452-4b23-b7b9-ba9d49adb3cf",
   "metadata": {},
   "source": [
    "<a id=\"exercise_1\"></a>\n",
    "<div class=\"alert alert-block alert-success\">\n",
    "    \n",
    "<b> Exercise 1: Explore Transpilation Levels</b> \n",
    "\n",
    "Now that you understand the basics of transpilation and the role of preset pass managers, it’s time to put this knowledge into practice. <b>Try transpiling the QAOA circuit you created earlier using `generate_preset_pass_manager`, and explore different `optimization_levels`.</b> Observe how the circuit changes and consider which level of optimization provides the best balance between transpilation time and circuit efficiency for your specific problem.\n",
    "</div> "
   ]
  },
  {
   "cell_type": "code",
   "execution_count": null,
   "id": "e6a17b33-c002-4586-b409-b1a4dce4f75c",
   "metadata": {},
   "outputs": [],
   "source": [
    "# Import necessary libraries\n",
    "import time\n",
    "from qiskit.transpiler.preset_passmanagers import generate_preset_pass_manager\n",
    "\n",
    "### Write your code below here ###\n",
    "\n",
    "# Generate a preset pass manager for transpilation\n",
    "\n",
    "\n",
    "### Don't change any code past this line ###\n",
    "\n",
    "###############  Measure the start time of the transpilation process\n",
    "t0 = time.time()\n",
    "\n",
    "# Run the pass manager to transpile the QAOA cost layer circuit\n",
    "naively_transpiled_qaoa = pm_ex1.run(cost_layer)\n",
    "\n",
    "# Measure the end time of the transpilation process\n",
    "t1 = time.time()\n",
    "\n",
    "# Print the total transpilation time\n",
    "print(f\"Transpilation time: {t1 - t0:.2f} (s)\")"
   ]
  },
  {
   "cell_type": "code",
   "execution_count": null,
   "id": "acf179b7-25f0-45e6-8830-9c5a8b8b6382",
   "metadata": {},
   "outputs": [],
   "source": [
    "# Extract information from the transpiled circuit\n",
    "circuit = naively_transpiled_qaoa\n",
    "\n",
    "# Output various metrics about the transpiled circuit\n",
    "print(f'Count Ops: {circuit.count_ops()}')\n",
    "print(f'Total circuit depth: {circuit.depth()}')\n",
    "print(f'Number of 2-qubit gates: {circuit.size(lambda x: x.operation.num_qubits == 2)}')\n",
    "\n",
    "# Output the score and depth specifically for 2-qubit gates, in color\n",
    "print(Fore.MAGENTA + Style.BRIGHT + f'2-qubit gate depth: {circuit.depth(lambda x: x.operation.num_qubits == 2)}')\n",
    "print(Fore.GREEN + f'Score: {score_func(circuit)}')"
   ]
  },
  {
   "cell_type": "markdown",
   "id": "063ed2e8-5906-432e-814b-a6fa907408f0",
   "metadata": {},
   "source": [
    "<div class=\"alert alert-block alert-warning\">\n",
    "\n",
    "⚠️ **Please Note**\n",
    "\n",
    "While transpiling a circuit multiple times can lead to better optimization outcomes, it's important to be mindful of scalability issues.  Repeated transpilation can increase total runtime significantly, especially for large circuits, as each pass introduces computational overhead. This approach is generally more suitable for smaller circuits or when achieving the highest level of optimization is critical.\n",
    "\n",
    "To ensure reproducibility in your results, consider setting the `seed_transpiler` parameter in `generate_preset_passmanager`. This parameter allows you to obtain consistent results across multiple transpilation trials, making it easier to track improvements without rerunning unnecessary passes. For larger-scale workflows, however, repeated transpilation may lead to inefficiencies and impact scalability, so use this method thoughtfully.\n",
    "\n",
    "</div>\n"
   ]
  },
  {
   "cell_type": "markdown",
   "id": "f63571c1-5f18-412c-8c76-1664c164b7d8",
   "metadata": {},
   "source": [
    "### Customize Transpilation Settings\n",
    "\n",
    "Next, consider customizing some of the parameters available in the `generate_preset_pass_manager` function to see how they affect the transpilation process. You can adjust settings related to the circuit's `init`, `layout`, `routing`, `translation`, `optimization`, and `scheduling` stages.\n",
    "\n",
    "Explore changing parameters pertaining to the transpilation stages and observe how these changes impact circuit metrics:\n",
    "\n",
    "- **Init Stage:** Customize the synthesis algorithms with hls_config, select a different initialization plugin using `init_method`, or adjust the unitary synthesis method with `unitary_synthesis_method` and `unitary_synthesis_plugin_config`.\n",
    "- **Layout Stage:** Modify the `layout_method` to change how the initial layout of qubits is selected. Options include `trivial`, `dense`, `noise_adaptive`, or `sabre`.\n",
    "- **Routing Stage:** Adjust the `routing_method` to influence how qubits are swapped during the circuit execution. Options include `basic`, `lookahead`, `stochastic`, `sabre`, or `none`.\n",
    "- **Translation Stage:** Experiment with the translation_method to determine how the circuit is converted to the backend’s native gate set, choosing between `translator` or `synthesis`.\n",
    "- **Optimization Stage:** Experiment with the `approximation_degree` to trade off accuracy for gate reduction. You can set it to a value between `0.0` (maximal approximation) and `1.0` (no approximation), or `None` to automatically match the error rate.\n",
    "- **Scheduling Stage:** Control the timing of gate execution with the scheduling_method, selecting either `as_soon_as_possible` (ASAP) or `as_late_as_possible` (ALAP).\n",
    "\n",
    "You can learn more about these options here in the [documentation](https://docs.quantum.ibm.com/guides/defaults-and-configuration-options)."
   ]
  },
  {
   "cell_type": "markdown",
   "id": "9dede04e-0d7c-47b7-b724-945ebe4bfe2b",
   "metadata": {},
   "source": [
    "<div class=\"alert alert-block alert-success\">\n",
    "<b>Make the most of the in-person QDC experience</b>\n",
    "    \n",
    "Feel free to experiment with the preset PassManager to discover the different ways they can add value to your quantum projects. Please do not hesitate to reach out to the mentors and IBMers in the room to ask questions and learn how to unlock even more potential from each of these capablities!\n",
    "\n",
    "</div>"
   ]
  },
  {
   "cell_type": "markdown",
   "id": "8be73f78-920e-43ce-be98-930a59fe2caa",
   "metadata": {},
   "source": [
    "**Debugging tip:** When customizing transpilation settings, it can be extremely helpful to print out the list of passes that will be applied. This allows you to verify that your custom passes are being included in the correct order and that no unwanted default passes are being added. You can do this by adding a callback function as follows:"
   ]
  },
  {
   "cell_type": "code",
   "execution_count": null,
   "id": "b66cd1d0-1dd7-4081-b1c9-124b24299be3",
   "metadata": {
    "scrolled": true
   },
   "outputs": [],
   "source": [
    "def callback_func(pass_, dag, time, property_set, count):\n",
    "    print(f\"PASS {count}: {pass_.name()} in {time}\")\n",
    "    print(f\"ops: {dag.count_ops()}\")\n",
    "    print(f\"dep: {dag.depth()}\")\n",
    "    print(f\"========\")"
   ]
  },
  {
   "cell_type": "markdown",
   "id": "1e6901db-a091-46a3-9631-d1264d2e825c",
   "metadata": {},
   "source": [
    "Examining the pass list helps you understand exactly how your circuit is being transpiled and can be invaluable for troubleshooting unexpected results or optimizing the transpilation process. If you notice passes that shouldn't be there, or are missing passes that you expected to be there, you can adjust your `generate_preset_passmanager` configuration accordingly.\n",
    "\n",
    "Experiment with modifying parameters associated with the transpilation stages to observe their impact on your circuit metrics:"
   ]
  },
  {
   "cell_type": "markdown",
   "id": "c273fe74-7981-4fdc-bf20-1bc09ab194cb",
   "metadata": {
    "jp-MarkdownHeadingCollapsed": true
   },
   "source": [
    "<a id=\"exercise2\"></a>\n",
    "<div class=\"alert alert-block alert-success\">\n",
    "    \n",
    "<b> Exercise 2: Explore Transpilation Options</b> \n",
    "\n",
    "In this exercise, you'll dive deeper into the transpilation process by customizing key parameters using the `generate_preset_pass_manager` function. Experiment with different stages of transpilation, such as `init`, `layout`, `routing`, `translation`, `optimization`,and `scheduling`, as well as explore the different attributes of `generate_preset_pass_manager`. By modifying these parameters, you can observe how they affect the performance and characteristics of your quantum circuit. Aim to get a lower gate depth (total or two-qubit gate depth) than the default transpilation options.</div> "
   ]
  },
  {
   "cell_type": "code",
   "execution_count": null,
   "id": "c1c0baab-9c2f-4051-b2da-f3ebde70c90a",
   "metadata": {},
   "outputs": [],
   "source": [
    "# Feel free to play around with these options\n",
    "\n",
    "### Write your code below here ###\n",
    "\n",
    "pm_ex2 = generate_preset_pass_manager(\n",
    "    optimization_level=3,\n",
    "    backend=backend,\n",
    "    instruction_durations=None,\n",
    "    initial_layout=None,\n",
    "    layout_method=None,\n",
    "    routing_method=None,\n",
    "    translation_method=None,\n",
    "    scheduling_method=None,\n",
    "    approximation_degree=0,\n",
    "    seed_transpiler=None,\n",
    "    unitary_synthesis_method=None,\n",
    "    unitary_synthesis_plugin_config=None,\n",
    "    hls_config=None,\n",
    "    init_method=None,\n",
    "    optimization_method=None,\n",
    ")\n",
    "\n",
    "### Don't change any code past this line ###\n"
   ]
  },
  {
   "cell_type": "code",
   "execution_count": null,
   "id": "1d912d26-7682-419c-8931-f598fe6fd054",
   "metadata": {
    "scrolled": true
   },
   "outputs": [],
   "source": [
    "import time\n",
    "from qiskit.transpiler.preset_passmanagers import generate_preset_pass_manager\n",
    "\n",
    "###############  Measure the start time of the transpilation process\n",
    "t0 = time.time()\n",
    "\n",
    "# Run the pass manager to transpile the QAOA cost layer circuit\n",
    "naively_custom_transpiled_qaoa = pm_ex2.run(cost_layer, callback=callback_func)\n",
    "\n",
    "# Measure the end time of the transpilation process\n",
    "t1 = time.time()\n",
    "\n",
    "# Print transpilation time\n",
    "print(f\"Transpilation time: {t1 - t0} (s)\")"
   ]
  },
  {
   "cell_type": "code",
   "execution_count": null,
   "id": "f7e90583-5de9-4952-b9d7-9066f6157336",
   "metadata": {},
   "outputs": [],
   "source": [
    "# Extract information from the transpiled circuit\n",
    "circuit = naively_custom_transpiled_qaoa\n",
    "\n",
    "# Output various metrics about the transpiled circuit\n",
    "print(f'Count Ops: {circuit.count_ops()}')\n",
    "print(f'Total circuit depth: {circuit.depth()}')\n",
    "print(f'Number of 2-qubit gates: {circuit.size(lambda x: x.operation.num_qubits == 2)}')\n",
    "\n",
    "# Output the score and depth specifically for 2-qubit gates, in color\n",
    "print(Fore.MAGENTA + Style.BRIGHT + f'2-qubit gate depth: {circuit.depth(lambda x: x.operation.num_qubits == 2)}')\n",
    "print(Fore.GREEN + f'Score: {score_func(circuit)}')"
   ]
  },
  {
   "cell_type": "markdown",
   "id": "77efb949-cae6-46e2-90cd-081a726c1c89",
   "metadata": {},
   "source": [
    "\n",
    "### 3. Tip: Transpiling Multiple Times for Best Results\n",
    "When working with quantum circuits, the process of transpilation involves many stochastic passes, which means the results can vary each time you transpile the same circuit. In practice, running the transpiler multiple times may lead to better results in terms of circuit depth, gate count, and overall optimization. This is because some of the randomization involved in the transpilation process might occasionally yield a more efficient circuit layout or routing. One effective method to achieve more predictable outcomes is to use the `seed_transpiler` option. By varying a seed, you can control the randomization of the transpilation process, making it easier to reproduce and compare results.\n",
    "\n",
    "Perform the process multiple times and keep the best outcome based on your chosen metric (e.g., minimal gate count, execution time). This can be achieved by running a loop over several transpilation attempts, each with a fixed seed, and selecting the most optimized circuit.\n",
    "\n",
    "#### Try transpiling the circuit multiple times to observe variations in the results, then choose the most optimal one.\n",
    "\n",
    "Here’s an example where we transpile a circuit multiple times, each time storing the result and comparing the transpiled circuits based on gate count:\n",
    "\n"
   ]
  },
  {
   "cell_type": "markdown",
   "id": "7e67ba5e-dbbe-458c-9bf1-92582a7362a5",
   "metadata": {},
   "source": [
    "<div class=\"alert alert-block alert-danger\">\n",
    "    \n",
    "⚠️ **Disclaimer on using this strategy:** \n",
    "\n",
    "While transpiling a circuit multiple times can lead to better optimization outcomes, it's important to be mindful of scalability issues. Transpiling multiple times can significantly increase the total runtime, especially for large circuits. This method is more appropriate for smaller circuits or when higher levels of optimization are essential. Additionally, each transpilation pass involves computational overhead, and for larger circuits or when scaling to many circuits, performing multiple trials could potentially result in the workflow becoming inefficient and unscalable.\n",
    "</div>"
   ]
  },
  {
   "cell_type": "markdown",
   "id": "c48f4198-e362-4a81-a62f-66923b849088",
   "metadata": {},
   "source": [
    "<a id=\"exercise2\"></a>\n",
    "<div class=\"alert alert-block alert-success\">\n",
    "    \n",
    "<b> Exercise 3: Transpile Multiple times</b> \n",
    "\n",
    "It's time to explore the impact of running the transpiler multiple times. For this exercise, transpile the same circuit multiple times, and aim to achieve an optimized version by selecting the best result from these attempts.\n",
    "</div>"
   ]
  },
  {
   "cell_type": "code",
   "execution_count": null,
   "id": "11426d7b-f144-4172-8ca7-fa2458ee3d2c",
   "metadata": {
    "scrolled": true
   },
   "outputs": [],
   "source": [
    "import time\n",
    "from colorama import Fore, Style  # Ensure colorama is imported for colored output\n",
    "\n",
    "# Initialize the depth to a large number for comparison\n",
    "depth = 2000\n",
    "\n",
    "# Record the starting time of the transpilation process\n",
    "t0 = time.time()\n",
    "\n",
    "# Loop over a range of seeds to find the best transpilation result\n",
    "for seed in range(129,131):\n",
    "    \n",
    "    ### Write your code below here ###\n",
    "    # Generate a preset pass manager with the given backend and seed\n",
    "\n",
    "    \n",
    "    # Run the pass manager on the cost layer circuit\n",
    "\n",
    "    \n",
    "    # Calculate the depth of the circuit, considering only two-qubit gates\n",
    "\n",
    "    \n",
    "    # If the new circuit depth is less than the current best depth, update the depth and save the circuit\n",
    "\n",
    "    \n",
    "    ### Don't change any code past this line ###\n",
    "\n",
    "###############  Measure the start time of the transpilation process\n",
    "t1 = time.time()\n",
    "\n",
    "# Output the selected seed that resulted in the best transpilation result\n",
    "print(f'Seed selected: {seed_selected}')\n",
    "\n",
    "# Use the circuit with the best depth\n",
    "circuit = circuit_routed\n",
    "\n",
    "# Print transpilation time\n",
    "print(f\"Transpilation time: {t1 - t0} (s)\")\n",
    "\n",
    "# Output various metrics about the transpiled circuit\n",
    "print(f'Count Ops: {circuit.count_ops()}')\n",
    "print(f'Total circuit depth: {circuit.depth()}')\n",
    "print(f'Number of 2-qubit gates: {circuit.size(lambda x: x.operation.num_qubits == 2)}')\n",
    "\n",
    "# Output the score and depth specifically for 2-qubit gates, in color\n",
    "print(Fore.MAGENTA + Style.BRIGHT + f'2-qubit gate depth: {circuit.depth(lambda x: x.operation.num_qubits == 2)}')\n",
    "print(Fore.GREEN + f'Score: {score_func(circuit)}')"
   ]
  },
  {
   "cell_type": "code",
   "execution_count": null,
   "id": "ac0c6432-ef38-407f-8c2b-b3824867736e",
   "metadata": {},
   "outputs": [],
   "source": [
    "# Run this cell to grade your answer\n",
    "pm_ex3 = generate_preset_pass_manager(backend=backend, optimization_level=3, seed_transpiler=seed_selected)\n",
    "\n",
    "grade_day2a_ex3(pm_ex3, backend)\n",
    "# Expected result type: PassManager, Backend"
   ]
  },
  {
   "cell_type": "markdown",
   "id": "399ac601-ce82-4dd8-9fd8-d3bce072b45d",
   "metadata": {},
   "source": [
    "### Leveraging AI in Transpilation\n",
    "\n",
    "For this section, we are providing you with beta access to the Qiskit Transpiler Service to experiment with the latest AI-powered transpiler capabilities in Qiskit. With this release, you can now leverage AI and IBM Cloud&reg; resources to optimize your quantum circuits more efficiently.\n",
    "\n",
    "The Qiskit Transpiler Service allows you to choose the level of AI-powered capablities in your transpilation process through the `ai` parameter, which can be set to `\"true\"`, `\"false\"`, or `\"auto\"`:\n",
    "- **\"true\"** enables AI-powered transpilation passes, such as AIRouting or AI-powered synthesis, based on the optimization level selected.\n",
    "- **\"false\"** limits the transpiler to the latest standard Qiskit features without AI intervention.\n",
    "- **\"auto\"** allows the service to decide between AI-powered or heuristic transpilation passes, depending on the complexity and structure of your circuit.\n",
    "\n",
    "In this step, you'll transpile and optimize your circuit using the Qiskit Transpiler Service. We will be using the Qiskit Transpiler Service, which provides both heuristic and AI-powered transpilation capabilities on the cloud. We can leverage running transpilation tasks to benefit from IBM Quantum™ cloud resources and advanced AI-powered transpiler passes. **For more information, refer to the Qiskit Transpiler Service [documentation.](https://docs.quantum.ibm.com/transpile/qiskit-transpiler-service)**\n",
    "\n",
    "\n",
    "We encourage you to explore these options to maximize the efficiency and performance of your quantum circuits on the IBM Quantum™ cloud.\n",
    "\n",
    "\n"
   ]
  },
  {
   "cell_type": "markdown",
   "id": "8250b166-164c-402f-ba12-b1cd17210818",
   "metadata": {},
   "source": [
    "<div class=\"alert alert-block alert-danger\">\n",
    "\n",
    "Please note, **these features are in beta**. Have fun experimenting and pushing the boundaries of quantum development, and let us know if you have any feedback on how to make this tool better!\n",
    "\n",
    "</div>"
   ]
  },
  {
   "cell_type": "markdown",
   "id": "4416d4bd-01d8-462b-8c29-920692d3e202",
   "metadata": {},
   "source": [
    "<a id=\"exercise4\"></a>\n",
    "<div class=\"alert alert-block alert-success\">\n",
    "    \n",
    "<b> Exercise 4: Exploring AI-powered transpilation</b> \n",
    "\n",
    "In this exercise, you'll use the Qiskit Transpiler Service with AI-powered transpilation. First, ensure you have the latest version of the Qiskit Transpiler Service installed. Continue using the `ibm_sherbrooke` backend and create a new transpiler configuration with `optimization_level = 3` and the AI flag enabled (use `ai=True`). Transpile your quantum circuit using this new configuration and compare the results (gate count, depth) with your previous transpilation. \n",
    "\n",
    "**For an additional challenge**, experiment embedding AI-powered passes like `AIRouting`, `AICliffordSynthesis`, `AILinearFunctionSynthesis`, and `AIPermutationSynthesis` using `PassManager`s. Documentation for the same can be found [here.](https://docs.quantum.ibm.com/guides/ai-transpiler-passes)\n",
    "</div> \n"
   ]
  },
  {
   "cell_type": "code",
   "execution_count": null,
   "id": "26fa16a4-9214-4cda-b258-b7a5a65f24d8",
   "metadata": {},
   "outputs": [],
   "source": [
    "from qiskit_ibm_runtime import QiskitRuntimeService\n",
    "\n",
    "# QiskitRuntimeService.save_account(\n",
    "#     channel=\"ibm_quantum\",\n",
    "#     token=\"\",\n",
    "#     set_as_default=True,\n",
    "#     # Use `overwrite=True` if you're updating your token.\n",
    "#     overwrite=True,\n",
    "# )\n",
    " \n",
    "# Load saved credentials\n",
    "service = QiskitRuntimeService(channel=\"ibm_quantum\")"
   ]
  },
  {
   "cell_type": "code",
   "execution_count": null,
   "id": "983bec77-6f4c-4404-988a-3df883876e4e",
   "metadata": {},
   "outputs": [],
   "source": [
    "# Setting up the Transpiler service\n",
    "from qiskit_ibm_transpiler import TranspilerService\n",
    "import time\n",
    "\n",
    "### Write your code below here ###\n",
    "\n",
    "\n",
    "\n",
    "\n",
    "### Don't change any code past this line ###\n",
    "\n",
    "\n",
    "###############  Measure the start time of the transpilation process\n",
    "t0_ai_transpile = time.time()\n",
    "\n",
    "# Run the pass manager to transpile the QAOA cost layer circuit\n",
    "circuit_ai_true = ts_ex4.run(cost_layer)\n",
    "\n",
    "# Measure the end time of the transpilation process\n",
    "t1_ai_transpile  = time.time()\n",
    "time_with_ai = t1_ai_transpile - t0_ai_transpile"
   ]
  },
  {
   "cell_type": "markdown",
   "id": "377c5952-10c3-495b-bb01-a1e1249e303f",
   "metadata": {},
   "source": [
    "You can also use AI-powered transpiler passes as a drop-in custom pass in a staged pass manager. Read the [documentation](https://docs.quantum.ibm.com/guides/ai-transpiler-passes) for more details."
   ]
  },
  {
   "cell_type": "code",
   "execution_count": null,
   "id": "46d2c9cd-a066-40e6-9fab-3046a7508ab3",
   "metadata": {},
   "outputs": [],
   "source": [
    "# Extract information from the transpiled circuit\n",
    "circuit = circuit_ai_true\n",
    "\n",
    "# Print transpilation time\n",
    "print(f\"Transpilation time: {time_with_ai} (s)\")\n",
    "\n",
    "# Output various metrics about the transpiled circuit\n",
    "print(f'Count Ops: {circuit.count_ops()}')\n",
    "print(f'Total circuit depth: {circuit.depth()}')\n",
    "print(f'Number of 2-qubit gates: {circuit.size(lambda x: x.operation.num_qubits == 2)}')\n",
    "\n",
    "# Output the score and depth specifically for 2-qubit gates, in color\n",
    "print(Fore.MAGENTA + Style.BRIGHT + f'2-qubit gate depth: {circuit.depth(lambda x: x.operation.num_qubits == 2)}')\n",
    "print(Fore.GREEN + f'Score: {score_func(circuit)}')"
   ]
  },
  {
   "cell_type": "markdown",
   "id": "8db68eaf-2d42-4049-bb69-bf3052b7210c",
   "metadata": {},
   "source": [
    "## 5. Diving Deeper into Transpilation Using Custom Pass Managers\n",
    "\n",
    "### Introduction to Transpilation Strategies: Cheat Sheet\n",
    "\n",
    "In quantum computing, optimizing circuits is crucial for improving the performance and accuracy of quantum algorithms on real hardware. While preset pass managers in Qiskit provide a solid foundation for general optimization, there are cases where more targeted, deeper strategies are needed to achieve better results. By customizing transpilation through specific strategies, you can refine circuit performance by reducing gate count, minimizing circuit depth, and optimizing qubit mapping for your specific hardware.\n",
    "\n",
    "Let us dive deeper into these strategies and leverage Qiskit SDK's `PassManager`, to experiment with various techniques to improve the efficiency of your circuits, enabling them to run more effectively on QPUs.\n",
    "\n",
    "### General Strategies Cheat Sheet\n",
    "\n",
    "| **Strategy**                             | **When to Use This Strategy?**                                                        | **Why?**                                                                                                                                        | **How Much Improvement?**                                                                                       | **Implementation**                                                                                                                        |\n",
    "|------------------------------------------|--------------------------------------------------------------------------------------|------------------------------------------------------------------------------------------------------------------------------------------------|-----------------------------------------------------------------------------------------------------------------|-----------------------------------------------------------------------------------------------------------------------------------------|\n",
    "| **Try transpiling multiple times**       | Always (May not be needed in most cases now. Use `SabreLayout` and increase `trial_count` argument instead.) | Many transpilation passes are stochastic. Running the transpiler multiple times may result in better outcomes.                                                     | Transpile multiple times in a loop and keep the best result.                                                   | Utilize a loop or a genetic algorithm to mutate and evolve a better transpiler workflow.                                                                       |\n",
    "| **Experiment with different synthesis methods** | When working with high-level objects that have multiple synthesis options (e.g., Cliffords, LinearFunctions, MCX gates, sequences of Pauli rotations) | Different synthesis methods can produce circuits with varying depths and gate counts without changing the operator. | Can optimize circuit depth and size without modifying functionality. | Specify different synthesis methods using `hls_config` in Qiskit. |\n",
    "| **Dropping the final Clifford (operator backpropagation)** | When measuring an observable                                                  | Can potentially reduce the circuit depth with minimal overhead cost. | May help optimize depth without much extra complexity. | Implement operator backpropagation by rearranging gate sequences.                                                                                                                                         |\n",
    "| **Use approximation degree**               | For deep circuits                                                                    | Deep circuits often accumulate noise, so trading off accuracy with fewer gates/errors may improve results.         | Can reduce the depth by optimizing gates based on the error rates of qubit gates. | Use `approximation_degree='none'` or set it based on hardware error rates.                                                                                                                                         |\n",
    "| **Apply dynamical decoupling**              | For devices with high crosstalk errors (e.g., Eagle); may not be effective in all devices            | Dynamical decoupling can suppress crosstalk errors between qubits.                                                                                               | Potential improvements for specific hardware architectures. | Use Qiskit Runtime’s dynamical decoupling capabilities or create a custom decoupling pass.                                                                                                                              |\n",
    "| **Numerical approximate methods**        | Large networks of CNOTs or Clifford gates                                             | Useful when dealing with many gates on relatively few qubits.                                                                                           | Can simplify circuits with large gate counts. | Explore numerical approximation methods for gate simplification.                                                                                                                                         |\n",
    "| **Use SabrePreLayout**                   |  When the quality of the circuit (both size and depth) is more important than the transpilation runtime        | Helps reduce overall circuit depth by optimizing layout before routing.                                                                                               | Useful when depth is a more critical factor than size. | Useful for niche set of applications                                       |\n",
    "| **Leverage Pauli synthesis tools**       | For circuits with large sequences of multi-qubit Pauli rotations or Trotter decomposition problems. | Optimizing Pauli rotations can significantly reduce circuit depth, especially in hardware with limited connectivity. | May result in substantial depth reduction in circuits with many Pauli rotations. | Use Pauli synthesis tools in Qiskit or Rustiq for Trotter circuits.                                                                                             |\n",
    "| **Use approximation degree** |\tFor deep circuits where a trade-off between accuracy and circuit depth is acceptable (Approximates the operator)\t| Trading off accuracy with fewer gates/lower depth may improve results. |\tCan significantly reduce depth by allowing approximate gate synthesis.\t| Use the approximation_degree parameter in Qiskit's transpiler. |\n",
    "\n",
    "\n",
    "\n",
    "---\n",
    "\n",
    "\n"
   ]
  },
  {
   "cell_type": "markdown",
   "id": "87f79ca9-eb7b-4d57-add6-05d9dcb45f09",
   "metadata": {},
   "source": [
    "### Applying Transpilation Strategies Using Custom and Staged Pass Managers\n",
    "\n",
    "In this section, you’ll learn how to integrate these optimization strategies into your custom pass manager to improve your quantum circuit. In Qiskit SDK, Custom `PassManagers` allow fine-grained control over the transpilation process by enabling users to define a specific sequence of optimization and transformation passes. These passes can target specific goals such as reducing circuit depth, improving fidelity, or adapting to the hardware topology.  By applying a combination of these methods, you can see how each strategy contributes to the overall circuit efficiency, making it more suitable for execution on IBM Quantum backends.\n",
    "\n",
    "The `StagedPassManager` organizes the transpilation workflow into distinct stages, each stage being a `PassManager` focusing on different optimization goals, such as initial layout selection, gate reduction, or final qubit mapping. This staged approach allows for incremental improvements and conditional passes that apply only when necessary, offering a structured way to fine-tune the balance between execution speed and circuit fidelity. Together, the custom `PassManager` and `StagedPassManager` enable deeper exploration of transpilation strategies, giving developers full control over the optimization process to create circuits best suited for specific hardware constraints.\n",
    "\n",
    "### Custom Pass Managers\n",
    "\n",
    "As mentioned above, a **`PassManager`** allows you to apply a sequence of optimization passes to a quantum circuit, transforming it for more efficient execution on quantum hardware. By creating a custom pass manager, you can tailor the optimization to your circuit's specific needs, achieving deeper optimization compared to the preset configurations. Let's look at how we can create a custom `PassManager` and apply it to a workflow.\n",
    "\n",
    "#### Example: Creating a Custom Pass Manager\n",
    "\n",
    "To create a custom pass manager, you can combine various strategies together to form a transformation. Here is an example using `Collect2qBlocks`, `ConsolidateBlocks`, and `UnitarySynthesis` to optimize the circuit. You can refer to the [documentation](https://docs.quantum.ibm.com/api/qiskit/qiskit.transpiler.passes.Collect2qBlocks) to know more about their transformation.\n"
   ]
  },
  {
   "cell_type": "code",
   "execution_count": null,
   "id": "98ac7c12-24ee-4e6f-9cb4-430f94e5cfa6",
   "metadata": {},
   "outputs": [],
   "source": [
    "from qiskit.transpiler import PassManager\n",
    "from qiskit.transpiler.passes import Collect2qBlocks, ConsolidateBlocks, UnitarySynthesis\n",
    "\n",
    "# Show example \n",
    "basis_gates = [\"rx\", \"ry\", \"rxx\"]\n",
    "custom_pass_manager = PassManager([\n",
    "   Collect2qBlocks(),\n",
    "   ConsolidateBlocks(basis_gates=basis_gates),\n",
    "   UnitarySynthesis(basis_gates),\n",
    "])\n"
   ]
  },
  {
   "cell_type": "markdown",
   "id": "eb12635d-df3a-416a-98e9-2a2e2028db48",
   "metadata": {},
   "source": [
    "You can then apply this custom pass manager to a circuit using its run method."
   ]
  },
  {
   "cell_type": "code",
   "execution_count": null,
   "id": "d83ab3f4-6b92-453c-aab2-c39331ad05a5",
   "metadata": {},
   "outputs": [],
   "source": [
    "###############  Measure the start time of the transpilation process\n",
    "t0 = time.time()\n",
    "\n",
    "# Run the pass manager to transpile the QAOA cost layer circuit\n",
    "transpiled_circuit = custom_pass_manager.run(cost_layer)\n",
    "\n",
    "# Measure the end time of the transpilation process\n",
    "t1 = time.time()\n",
    "\n",
    "# Print transpilation time\n",
    "print(f\"Transpilation time: {t1-t0} (s)\")\n",
    "\n",
    "transpiled_circuit.decompose(reps=2).draw(output=\"mpl\",idle_wires=False, fold=-1,scale=0.5)"
   ]
  },
  {
   "cell_type": "markdown",
   "id": "4acfa91a-db79-4ded-a065-e63539aefa67",
   "metadata": {},
   "source": [
    "### Staged Pass Managers\n",
    "With a **staged pass manager**, you can organize multiple `PassManagers` into distinct stages of transpilation, such as initialization, layout, routing, translation, optimization, and scheduling. This provides more flexibility in how the transpilation process is structured.\n",
    "\n",
    "You can create a staged pass manager by defining stages and assigning pass managers to each stage:"
   ]
  },
  {
   "cell_type": "code",
   "execution_count": null,
   "id": "22401538-2e2e-4d4c-bbaf-63f4df87877f",
   "metadata": {},
   "outputs": [],
   "source": [
    "from qiskit.transpiler import PassManager, StagedPassManager\n",
    "from qiskit.transpiler.passes import UnitarySynthesis, Unroll3qOrMore\n",
    "# Preset pass manager is the staged pass manager and flow from there. Use the preset passmanager and swap a stage\n",
    "init_pm = PassManager([UnitarySynthesis(basis_gates=[\"rx\", \"ry\", \"rxx\"], min_qubits=3), Unroll3qOrMore()])\n",
    "translate_pm = PassManager([Collect2qBlocks(), ConsolidateBlocks(basis_gates=[\"rx\", \"ry\", \"rxx\"])])\n",
    "\n",
    "staged_pass_manager = StagedPassManager(stages=[\"init\", \"translation\"], init=init_pm, translation=translate_pm)"
   ]
  },
  {
   "cell_type": "code",
   "execution_count": null,
   "id": "7308d6b3-7935-471d-96c6-5e84fa143d6d",
   "metadata": {
    "scrolled": true
   },
   "outputs": [],
   "source": [
    "###############  Measure the start time of the transpilation process\n",
    "t0 = time.time()\n",
    "\n",
    "# Run the pass manager to transpile the QAOA cost layer circuit\n",
    "transpiled_circuit = staged_pass_manager.run(cost_layer)\n",
    "\n",
    "# Measure the end time of the transpilation process\n",
    "t1 = time.time()\n",
    "\n",
    "# Print the total transpilation time\n",
    "print(f\"transpilation time: {t1 - t0:.2f} (s)\")\n",
    "transpiled_circuit.decompose().draw(output=\"mpl\",idle_wires=False, fold=-1,scale=0.5)"
   ]
  },
  {
   "cell_type": "markdown",
   "id": "265c601e-a15d-4db0-8b56-3e31758be8ce",
   "metadata": {},
   "source": [
    "You can also modify stages of Qiskit preset pass managers and modify the workflow:"
   ]
  },
  {
   "cell_type": "code",
   "execution_count": null,
   "id": "b8ee04bb-3411-472f-8536-07d42ef8204e",
   "metadata": {},
   "outputs": [],
   "source": [
    "circuit = transpiled_circuit\n",
    "\n",
    "# Output various metrics about the transpiled circuit\n",
    "print(f'Count Ops: {circuit.count_ops()}')\n",
    "print(f'Total circuit depth: {circuit.depth()}')\n",
    "print(f'Number of 2-qubit gates: {circuit.size(lambda x: x.operation.num_qubits == 2)}')\n",
    "\n",
    "# Output the score and depth specifically for 2-qubit gates, in color\n",
    "print(Fore.MAGENTA + Style.BRIGHT + f'2-qubit gate depth: {circuit.depth(lambda x: x.operation.num_qubits == 2)}')\n",
    "print(Fore.GREEN + f'Score: {score_func(circuit)}')"
   ]
  },
  {
   "cell_type": "markdown",
   "id": "651c6cf8-b677-4d3d-9b23-cd216112c2a7",
   "metadata": {},
   "source": [
    "**Now that you have learned how to create a custom `PassManager`, `StagedPassManager`, and AI-assisted passes, let us put it to test on our cost function circuit.**\n",
    "\n"
   ]
  },
  {
   "cell_type": "markdown",
   "id": "c7cdeb13-020e-403e-a1fe-e4acee14ae29",
   "metadata": {},
   "source": [
    "<a id=\"exercise5\"></a>\n",
    "<div class=\"alert alert-block alert-success\">\n",
    "    \n",
    "<b> Exercise 5: Exploring custom pass managers</b> \n",
    "\n",
    "In the next exercise, use all of the above techniques to get to a better score for optimizing the QAOA cost function circuit. This exercise will help you appreciate how the advanced optimization techniques provided by the Qiskit SDK's transpiler enhance the performance of quantum circuits. It will also provide a foundation for experimenting with more complex customizations in the Track B version of this notebook.\n",
    "\n",
    "**Challenge:**\n",
    "1. Use a preset `PassManager` or a custom `PassManager` to optimize the QAOA cost function transpilation as much as possible. You can experiment to design your own `StagedPassManager` and integrate your custom `PassManager` workflow.\n",
    "2. Try to achieve the best possible performance by experimenting with different combinations of passes.\n",
    "3. Feel free to make use of AI-powered transpiler passes or external plugins from the [Qiskit ecosystem](https://www.ibm.com/quantum/ecosystem?tag=Transpiler+plugin) to acheive the same.\n",
    "\n",
    "**Hint:**  \n",
    "Remember that sometimes adding too many passes can lead to diminishing returns or even degrade performance. Aim for a balance! Once you've finalized your pass manager, submit your optimized circuit for grading.\n",
    "\n",
    "**Let’s apply these strategies to optimize your QAOA circuit!**\n",
    "</div> \n"
   ]
  },
  {
   "cell_type": "markdown",
   "id": "1e81fdc7-74c5-4f9d-922d-e3ac3635212d",
   "metadata": {},
   "source": [
    "<div class=\"alert alert-block alert-warning\">\n",
    "\n",
    "🏆 **Scored Challenge** \n",
    "\n",
    "This is a scored challenge, and your submission results will count toward the leaderboard!\n",
    "\n",
    "Good luck, take your time to experiment, and enjoy the challenge!\n",
    "</div>\n"
   ]
  },
  {
   "cell_type": "markdown",
   "id": "6a78bc8d-532f-4a1b-b833-18a084a7dd9d",
   "metadata": {},
   "source": [
    "\n",
    "\n",
    "\n",
    "\n",
    "#### Useful Resources for Transpiler Passes\n",
    "\n",
    "- General documentation for passes: [Qiskit Transpiler Passes Documentation](https://docs.quantum.ibm.com/api/qiskit/transpiler_passes)\n",
    "\n",
    "#### Specific Pass Categories:\n",
    "- **Layout Passes**: [Layout Passes](https://github.com/Qiskit/qiskit/tree/main/qiskit/transpiler/passes/layout)\n",
    "- **Routing Passes**: [Routing Passes](https://github.com/Qiskit/qiskit/tree/main/qiskit/transpiler/passes/routing)\n",
    "- **Translation Passes**: [Translation Passes](https://github.com/Qiskit/qiskit/tree/main/qiskit/transpiler/passes/synthesis)\n",
    "- **Optimization Passes**: [Optimization Passes](https://github.com/Qiskit/qiskit/tree/main/qiskit/transpiler/passes/optimization)\n"
   ]
  },
  {
   "cell_type": "code",
   "execution_count": null,
   "id": "b1d1b834-ca94-438b-a7ea-1801a84b1d3b",
   "metadata": {
    "scrolled": true
   },
   "outputs": [],
   "source": [
    "# Import necessary libraries and transpiler passes\n",
    "from qiskit.circuit import SessionEquivalenceLibrary\n",
    "from qiskit.transpiler import PassManager, StagedPassManager\n",
    "from qiskit.transpiler.preset_passmanagers import generate_preset_pass_manager\n",
    "from qiskit.transpiler.preset_passmanagers.common import generate_unroll_3q, generate_embed_passmanager\n",
    "from qiskit.transpiler.passes.layout import (\n",
    "    CSPLayout, DenseLayout, SabreLayout, VF2Layout, TrivialLayout\n",
    ")\n",
    "from qiskit.transpiler.passes.routing import (\n",
    "    BasicSwap, LookaheadSwap, SabreSwap, StochasticSwap, StarPreRouting\n",
    ")\n",
    "from qiskit.transpiler.passes.basis import BasisTranslator\n",
    "from qiskit.transpiler.passes.optimization import (\n",
    "    CommutativeCancellation, ConsolidateBlocks, Collect2qBlocks, Collect1qRuns, Optimize1qGates, Optimize1qGatesDecomposition, Optimize1qGatesSimpleCommutation\n",
    ")\n",
    "from qiskit.transpiler.passes.synthesis import UnitarySynthesis, HighLevelSynthesis\n",
    "\n",
    "\n",
    "# Set up coupling map for transpilation stages\n",
    "cm = backend.coupling_map\n",
    "\n",
    "### Write your code below here ###\n",
    "\n",
    "# Suggestive template, feel free to change!\n",
    "\n",
    "# # Initialize a staged pass manager\n",
    "# pm_ex5 = generate_preset_pass_manager(backend=backend, optimization_level=1, seed_transpiler=273)\n",
    "\n",
    "# # Step 1: Initialization - Replace n-qubit QAOA operations with their 2-qubit gate decompositions\n",
    "# pm_ex5.init = None\n",
    "\n",
    "# # Step 2: Layout - Initialize PassManager for layout and apply layout passs\n",
    "# pm_ex5.layout = None\n",
    "\n",
    "# # Step 3: Routing - Configure routing passes for qubit routing \n",
    "# pm_ex5.routing = None\n",
    "\n",
    "# # Step 4: Translation - Translate gates into the target basis supported by the backend\n",
    "# pm_ex5.translation = None\n",
    "\n",
    "# # Step 5: Optimization - Add passes for optimizations\n",
    "# pm_ex5.optimization =None\n",
    "\n",
    "# # Step 6: Scheduling - Add passes for scheduling\n",
    "# pm_ex5.scheduling = None\n",
    "\n",
    "\n",
    "### Don't change any code past this line ###\n",
    "\n",
    "###############  Measure the start time of the transpilation process\n",
    "t0 = time.time()\n",
    "\n",
    "# Run the pass manager to transpile the QAOA cost layer circuit\n",
    "pm_aprox_transpiled_qaoa = pm_ex5.run(cost_layer, callback=callback_func)\n",
    "\n",
    "# Measure the end time of the transpilation process\n",
    "t1 = time.time()\n",
    "\n",
    "# Print transpilation time\n",
    "print(f\"Transpilation time: {t1 - t0:.2f} seconds\")"
   ]
  },
  {
   "cell_type": "code",
   "execution_count": null,
   "id": "bc15f692-6f73-4279-82d2-81e07d953a7f",
   "metadata": {},
   "outputs": [],
   "source": [
    "circuit = pm_aprox_transpiled_qaoa\n",
    "\n",
    "# Output various metrics about the transpiled circuit\n",
    "print(f'Count Ops: {circuit.count_ops()}')\n",
    "print(f'Total circuit depth: {circuit.depth()}')\n",
    "print(f'Number of 2-qubit gates: {circuit.size(lambda x: x.operation.num_qubits == 2)}')\n",
    "\n",
    "# Output the score and depth specifically for 2-qubit gates, in color\n",
    "print(Fore.MAGENTA + Style.BRIGHT + f'2-qubit gate depth: {circuit.depth(lambda x: x.operation.num_qubits == 2)}')\n",
    "print(Fore.GREEN + f'Score: {score_func(circuit)}')"
   ]
  },
  {
   "cell_type": "markdown",
   "id": "d4f17696-826d-4fa6-a56e-28496a3508a0",
   "metadata": {},
   "source": [
    "# Additional information\n",
    "\n",
    "**Created by:** Elena Peña Tapia, Junye Huang, Vishal Sharathchandra Bajpe\n",
    "\n",
    "**Advised by:** Abby Mitchell, Ali Javadi, Alexander Ivrii, Bryce Fuller, Henry Zou, John Lapeyre, Matthew Trenish,  Shelly Garion\n",
    "\n",
    "**Version:** 0.0.1"
   ]
  }
 ],
 "metadata": {
  "kernelspec": {
   "display_name": "Python 3 (ipykernel)",
   "language": "python",
   "name": "python3"
  },
  "language_info": {
   "codemirror_mode": {
    "name": "ipython",
    "version": 3
   },
   "file_extension": ".py",
   "mimetype": "text/x-python",
   "name": "python",
   "nbconvert_exporter": "python",
   "pygments_lexer": "ipython3",
   "version": "3.11.9"
  }
 },
 "nbformat": 4,
 "nbformat_minor": 5
}
